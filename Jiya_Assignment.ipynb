{
 "cells": [
  {
   "cell_type": "code",
   "execution_count": 3,
   "id": "55baea00",
   "metadata": {},
   "outputs": [
    {
     "data": {
      "text/plain": [
       "{'Year': [2021, 2021, 2021, 2021, 2022, 2022, 2022, 2022],\n",
       " 'Quarter': ['Q1', 'Q2', 'Q3', 'Q4', 'Q1', 'Q2', 'Q3', 'Q4'],\n",
       " 'Sales_online': [19000, 18000, 14000, 20000, 11000, 14000, 12000, 24000],\n",
       " 'Sales_instore': [13000, 12000, 17000, 18000, 15000, 19000, 23000, 25000],\n",
       " 'Expenses_online': [4000, 6000, 8000, 9000, 11000, 7000, 8000, 12000],\n",
       " 'Expenses_instore': [4300, 5260, 7272, 7382, 12000, 9000, 10000, 8900]}"
      ]
     },
     "execution_count": 3,
     "metadata": {},
     "output_type": "execute_result"
    }
   ],
   "source": [
    "import pandas as pd\n",
    "\n",
    "data = {\n",
    "    'Year': [2021, 2021, 2021, 2021, 2022, 2022, 2022, 2022],\n",
    "    'Quarter': ['Q1', 'Q2', 'Q3', 'Q4', 'Q1', 'Q2', 'Q3', 'Q4'],\n",
    "    'Sales_online': [19000, 18000, 14000, 20000, 11000, 14000, 12000, 24000],\n",
    "    'Sales_instore': [13000, 12000, 17000, 18000, 15000, 19000, 23000, 25000],\n",
    "    'Expenses_online': [4000, 6000, 8000, 9000, 11000, 7000, 8000, 12000],\n",
    "    'Expenses_instore': [4300, 5260, 7272, 7382, 12000, 9000, 10000, 8900]\n",
    "}\n",
    "data\n"
   ]
  },
  {
   "cell_type": "code",
   "execution_count": 4,
   "id": "28bba870",
   "metadata": {},
   "outputs": [
    {
     "data": {
      "text/html": [
       "<div>\n",
       "<style scoped>\n",
       "    .dataframe tbody tr th:only-of-type {\n",
       "        vertical-align: middle;\n",
       "    }\n",
       "\n",
       "    .dataframe tbody tr th {\n",
       "        vertical-align: top;\n",
       "    }\n",
       "\n",
       "    .dataframe thead th {\n",
       "        text-align: right;\n",
       "    }\n",
       "</style>\n",
       "<table border=\"1\" class=\"dataframe\">\n",
       "  <thead>\n",
       "    <tr style=\"text-align: right;\">\n",
       "      <th></th>\n",
       "      <th>Year</th>\n",
       "      <th>Quarter</th>\n",
       "      <th>Sales_online</th>\n",
       "      <th>Sales_instore</th>\n",
       "      <th>Expenses_online</th>\n",
       "      <th>Expenses_instore</th>\n",
       "    </tr>\n",
       "  </thead>\n",
       "  <tbody>\n",
       "    <tr>\n",
       "      <th>0</th>\n",
       "      <td>2021</td>\n",
       "      <td>Q1</td>\n",
       "      <td>19000</td>\n",
       "      <td>13000</td>\n",
       "      <td>4000</td>\n",
       "      <td>4300</td>\n",
       "    </tr>\n",
       "    <tr>\n",
       "      <th>1</th>\n",
       "      <td>2021</td>\n",
       "      <td>Q2</td>\n",
       "      <td>18000</td>\n",
       "      <td>12000</td>\n",
       "      <td>6000</td>\n",
       "      <td>5260</td>\n",
       "    </tr>\n",
       "    <tr>\n",
       "      <th>2</th>\n",
       "      <td>2021</td>\n",
       "      <td>Q3</td>\n",
       "      <td>14000</td>\n",
       "      <td>17000</td>\n",
       "      <td>8000</td>\n",
       "      <td>7272</td>\n",
       "    </tr>\n",
       "    <tr>\n",
       "      <th>3</th>\n",
       "      <td>2021</td>\n",
       "      <td>Q4</td>\n",
       "      <td>20000</td>\n",
       "      <td>18000</td>\n",
       "      <td>9000</td>\n",
       "      <td>7382</td>\n",
       "    </tr>\n",
       "    <tr>\n",
       "      <th>4</th>\n",
       "      <td>2022</td>\n",
       "      <td>Q1</td>\n",
       "      <td>11000</td>\n",
       "      <td>15000</td>\n",
       "      <td>11000</td>\n",
       "      <td>12000</td>\n",
       "    </tr>\n",
       "    <tr>\n",
       "      <th>5</th>\n",
       "      <td>2022</td>\n",
       "      <td>Q2</td>\n",
       "      <td>14000</td>\n",
       "      <td>19000</td>\n",
       "      <td>7000</td>\n",
       "      <td>9000</td>\n",
       "    </tr>\n",
       "    <tr>\n",
       "      <th>6</th>\n",
       "      <td>2022</td>\n",
       "      <td>Q3</td>\n",
       "      <td>12000</td>\n",
       "      <td>23000</td>\n",
       "      <td>8000</td>\n",
       "      <td>10000</td>\n",
       "    </tr>\n",
       "    <tr>\n",
       "      <th>7</th>\n",
       "      <td>2022</td>\n",
       "      <td>Q4</td>\n",
       "      <td>24000</td>\n",
       "      <td>25000</td>\n",
       "      <td>12000</td>\n",
       "      <td>8900</td>\n",
       "    </tr>\n",
       "  </tbody>\n",
       "</table>\n",
       "</div>"
      ],
      "text/plain": [
       "   Year Quarter  Sales_online  Sales_instore  Expenses_online  \\\n",
       "0  2021      Q1         19000          13000             4000   \n",
       "1  2021      Q2         18000          12000             6000   \n",
       "2  2021      Q3         14000          17000             8000   \n",
       "3  2021      Q4         20000          18000             9000   \n",
       "4  2022      Q1         11000          15000            11000   \n",
       "5  2022      Q2         14000          19000             7000   \n",
       "6  2022      Q3         12000          23000             8000   \n",
       "7  2022      Q4         24000          25000            12000   \n",
       "\n",
       "   Expenses_instore  \n",
       "0              4300  \n",
       "1              5260  \n",
       "2              7272  \n",
       "3              7382  \n",
       "4             12000  \n",
       "5              9000  \n",
       "6             10000  \n",
       "7              8900  "
      ]
     },
     "execution_count": 4,
     "metadata": {},
     "output_type": "execute_result"
    }
   ],
   "source": [
    "financial_data = pd.DataFrame(data)\n",
    "financial_data"
   ]
  },
  {
   "cell_type": "code",
   "execution_count": 5,
   "id": "cb08802e",
   "metadata": {},
   "outputs": [
    {
     "name": "stdout",
     "output_type": "stream",
     "text": [
      "\n",
      "(a) Online Sales for Q1 2022: 11000\n"
     ]
    }
   ],
   "source": [
    "# a\n",
    "online_sales_q1_2022 = financial_data[\n",
    "    (financial_data['Year'] == 2022) & (financial_data['Quarter'] == 'Q1')\n",
    "]['Sales_online'].values[0]\n",
    "print(\"\\n(a) Online Sales for Q1 2022:\", online_sales_q1_2022)"
   ]
  },
  {
   "cell_type": "code",
   "execution_count": 6,
   "id": "1f831f82",
   "metadata": {},
   "outputs": [
    {
     "name": "stdout",
     "output_type": "stream",
     "text": [
      "\n",
      "(b) In-Store Expenses for Q3 2021: 7272\n"
     ]
    }
   ],
   "source": [
    "# b\n",
    "instore_expenses_q3_2021 = financial_data[\n",
    "    (financial_data['Year'] == 2021) & (financial_data['Quarter'] == 'Q3')\n",
    "]['Expenses_instore'].values[0]\n",
    "print(\"\\n(b) In-Store Expenses for Q3 2021:\", instore_expenses_q3_2021)"
   ]
  },
  {
   "cell_type": "code",
   "execution_count": 7,
   "id": "51a6a4d1",
   "metadata": {},
   "outputs": [
    {
     "name": "stdout",
     "output_type": "stream",
     "text": [
      "\n",
      "(c) Total Sales for Q4 2021: 38000\n"
     ]
    }
   ],
   "source": [
    "# c\n",
    "total_sales_q4_2021 = financial_data[\n",
    "    (financial_data['Year'] == 2021) & (financial_data['Quarter'] == 'Q4')\n",
    "][['Sales_online', 'Sales_instore']].sum().sum()\n",
    "print(\"\\n(c) Total Sales for Q4 2021:\", total_sales_q4_2021)"
   ]
  },
  {
   "cell_type": "code",
   "execution_count": 8,
   "id": "4f9bbae0",
   "metadata": {},
   "outputs": [
    {
     "name": "stdout",
     "output_type": "stream",
     "text": [
      "\n",
      "(d) Expenses for Online Channel in 2022: 38000\n"
     ]
    }
   ],
   "source": [
    "# d\n",
    "online_expenses_2022 = financial_data[\n",
    "    (financial_data['Year'] == 2022)\n",
    "]['Expenses_online'].sum()\n",
    "print(\"\\n(d) Expenses for Online Channel in 2022:\", online_expenses_2022)"
   ]
  },
  {
   "cell_type": "code",
   "execution_count": 9,
   "id": "e8a5d1e4",
   "metadata": {},
   "outputs": [
    {
     "name": "stdout",
     "output_type": "stream",
     "text": [
      "\n",
      "(e) Sales Data for Q2 2021:\n",
      "   Sales_online  Sales_instore\n",
      "1         18000          12000\n"
     ]
    }
   ],
   "source": [
    "# e\n",
    "sales_q2_2021 = financial_data[\n",
    "    (financial_data['Year'] == 2021) & (financial_data['Quarter'] == 'Q2')\n",
    "][['Sales_online', 'Sales_instore']]\n",
    "print(\"\\n(e) Sales Data for Q2 2021:\")\n",
    "print(sales_q2_2021)\n"
   ]
  },
  {
   "cell_type": "code",
   "execution_count": 10,
   "id": "90595eda",
   "metadata": {},
   "outputs": [
    {
     "name": "stdout",
     "output_type": "stream",
     "text": [
      "\n",
      "(f) Maximum Expense Recorded in 2022: 12000\n"
     ]
    }
   ],
   "source": [
    "# f\n",
    "max_expense_2022 = financial_data[\n",
    "    (financial_data['Year'] == 2022)\n",
    "][['Expenses_online', 'Expenses_instore']].max().max()\n",
    "print(\"\\n(f) Maximum Expense Recorded in 2022:\", max_expense_2022)"
   ]
  },
  {
   "cell_type": "code",
   "execution_count": 11,
   "id": "cdb06b32",
   "metadata": {},
   "outputs": [
    {
     "name": "stdout",
     "output_type": "stream",
     "text": [
      "Stacked DataFrame:\n",
      "Store   Product        \n",
      "Store1  Product1  Sales    1000\n",
      "        Product2  Sales    1500\n",
      "Store2  Product1  Sales    1200\n",
      "        Product2  Sales    1800\n",
      "dtype: int64\n"
     ]
    }
   ],
   "source": [
    "#2\n",
    "\n",
    "data = {\n",
    "    'Store': ['Store1', 'Store1', 'Store2', 'Store2'],\n",
    "    'Product': ['Product1', 'Product2', 'Product1', 'Product2'],\n",
    "    'Sales': [1000, 1500, 1200, 1800]\n",
    "}\n",
    "\n",
    "df = pd.DataFrame(data)\n",
    "\n",
    "stacked_df = df.set_index(['Store', 'Product']).stack()\n",
    "print(\"Stacked DataFrame:\")\n",
    "print(stacked_df)\n"
   ]
  },
  {
   "cell_type": "code",
   "execution_count": 12,
   "id": "fb3986cd",
   "metadata": {},
   "outputs": [
    {
     "name": "stdout",
     "output_type": "stream",
     "text": [
      "\n",
      "Unstacked DataFrame (Sales by Store):\n",
      "Product       Product1  Product2\n",
      "Store                           \n",
      "Store1 Sales      1000      1500\n",
      "Store2 Sales      1200      1800\n"
     ]
    }
   ],
   "source": [
    "#q3\n",
    "unstacked_df = stacked_df.unstack(level='Product')\n",
    "print(\"\\nUnstacked DataFrame (Sales by Store):\")\n",
    "print(unstacked_df)\n"
   ]
  },
  {
   "cell_type": "code",
   "execution_count": 13,
   "id": "78b535f0",
   "metadata": {},
   "outputs": [
    {
     "name": "stdout",
     "output_type": "stream",
     "text": [
      "\n",
      "Multi-Index DataFrame (Department and Role):\n",
      "                     Employee  Salary\n",
      "Department Role                      \n",
      "HR         Manager      Alice   75000\n",
      "IT         Developer      Bob   90000\n",
      "HR         Assistant  Charlie   50000\n",
      "IT         Developer    David   85000\n"
     ]
    }
   ],
   "source": [
    "#q4\n",
    "data = {\n",
    "    'Employee': ['Alice', 'Bob', 'Charlie', 'David'],\n",
    "    'Department': ['HR', 'IT', 'HR', 'IT'],\n",
    "    'Role': ['Manager', 'Developer', 'Assistant', 'Developer'],\n",
    "    'Salary': [75000, 90000, 50000, 85000]\n",
    "}\n",
    "\n",
    "df = pd.DataFrame(data)\n",
    "df_multi_index = df.set_index(['Department', 'Role'])\n",
    "print(\"\\nMulti-Index DataFrame (Department and Role):\")\n",
    "print(df_multi_index)\n"
   ]
  },
  {
   "cell_type": "code",
   "execution_count": 14,
   "id": "f2051b6c",
   "metadata": {},
   "outputs": [
    {
     "name": "stdout",
     "output_type": "stream",
     "text": [
      "\n",
      "HR Department Employees:\n",
      "          Employee  Salary\n",
      "Role                      \n",
      "Manager      Alice   75000\n",
      "Assistant  Charlie   50000\n"
     ]
    }
   ],
   "source": [
    "#q5\n",
    "hr_employees = df_multi_index.loc['HR']\n",
    "print(\"\\nHR Department Employees:\")\n",
    "print(hr_employees)"
   ]
  },
  {
   "cell_type": "code",
   "execution_count": 15,
   "id": "abbd0210",
   "metadata": {},
   "outputs": [
    {
     "name": "stdout",
     "output_type": "stream",
     "text": [
      "\n",
      "Sorted Student Grades by Subject and Grade:\n",
      "   Student  Subject Grade\n",
      "0     John     Math     A\n",
      "2      Bob     Math     C\n",
      "3  Charlie  Science     A\n",
      "1    Alice  Science     B\n"
     ]
    }
   ],
   "source": [
    "#q6\n",
    "data = {\n",
    "    'Student': ['John', 'Alice', 'Bob', 'Charlie'],\n",
    "    'Subject': ['Math', 'Science', 'Math', 'Science'],\n",
    "    'Grade': ['A', 'B', 'C', 'A']\n",
    "}\n",
    "\n",
    "df_grades = pd.DataFrame(data)\n",
    "sorted_grades = df_grades.sort_values(by=['Subject', 'Grade'])\n",
    "print(\"\\nSorted Student Grades by Subject and Grade:\")\n",
    "print(sorted_grades)"
   ]
  },
  {
   "cell_type": "code",
   "execution_count": 16,
   "id": "7f9e060b",
   "metadata": {},
   "outputs": [
    {
     "name": "stdout",
     "output_type": "stream",
     "text": [
      "\n",
      "Reset Index of Sorted Grades:\n",
      "   Student  Subject Grade\n",
      "0     John     Math     A\n",
      "1      Bob     Math     C\n",
      "2  Charlie  Science     A\n",
      "3    Alice  Science     B\n"
     ]
    }
   ],
   "source": [
    "#q7\n",
    "reset_grades = sorted_grades.reset_index(drop=True)\n",
    "print(\"\\nReset Index of Sorted Grades:\")\n",
    "print(reset_grades)"
   ]
  },
  {
   "cell_type": "code",
   "execution_count": 17,
   "id": "e6e99b63",
   "metadata": {},
   "outputs": [
    {
     "name": "stdout",
     "output_type": "stream",
     "text": [
      "\n",
      "Weather DataFrame with Date as Index:\n",
      "            Temperature  Rainfall\n",
      "Date                             \n",
      "2024-01-01           30       0.0\n",
      "2024-01-02           32       1.2\n",
      "2024-01-03           28       0.5\n"
     ]
    }
   ],
   "source": [
    "#q8\n",
    "data = {\n",
    "    'Date': ['2024-01-01', '2024-01-02', '2024-01-03'],\n",
    "    'Temperature': [30, 32, 28],\n",
    "    'Rainfall': [0, 1.2, 0.5]\n",
    "}\n",
    "\n",
    "df_weather = pd.DataFrame(data)\n",
    "df_weather['Date'] = pd.to_datetime(df_weather['Date'])\n",
    "df_weather.set_index('Date', inplace=True)\n",
    "print(\"\\nWeather DataFrame with Date as Index:\")\n",
    "print(df_weather)"
   ]
  },
  {
   "cell_type": "code",
   "execution_count": 18,
   "id": "662a74fa",
   "metadata": {},
   "outputs": [
    {
     "name": "stdout",
     "output_type": "stream",
     "text": [
      "\n",
      "Flattened Product Sales DataFrame:\n",
      "      Category Product  Sales\n",
      "0  Electronics  Laptop   1000\n",
      "1  Electronics   Phone   2000\n",
      "2    Furniture   Table   3000\n",
      "3    Furniture   Chair   4000\n"
     ]
    }
   ],
   "source": [
    "#q9\n",
    "sales_data = {\n",
    "    'Category': ['Electronics', 'Electronics', 'Furniture', 'Furniture'],\n",
    "    'Product': ['Laptop', 'Phone', 'Table', 'Chair'],\n",
    "    'Sales': [1000, 2000, 3000, 4000]\n",
    "}\n",
    "\n",
    "df_sales = pd.DataFrame(sales_data)\n",
    "df_sales_multi_index = df_sales.set_index(['Category', 'Product'])\n",
    "flattened_df = df_sales_multi_index.reset_index()\n",
    "print(\"\\nFlattened Product Sales DataFrame:\")\n",
    "print(flattened_df)"
   ]
  },
  {
   "cell_type": "code",
   "execution_count": 19,
   "id": "ff3aa8fa",
   "metadata": {},
   "outputs": [
    {
     "name": "stdout",
     "output_type": "stream",
     "text": [
      "\n",
      "Average Sales by Category:\n",
      "Category\n",
      "Electronics    1250.0\n",
      "Furniture      2250.0\n",
      "Name: Sales, dtype: float64\n"
     ]
    }
   ],
   "source": [
    "#q10\n",
    "product_data = {\n",
    "    'Category': ['Electronics', 'Electronics', 'Furniture', 'Furniture'],\n",
    "    'Product': ['Laptop', 'Phone', 'Table', 'Chair'],\n",
    "    'Sales': [1000, 1500, 2000, 2500]\n",
    "}\n",
    "\n",
    "df_products = pd.DataFrame(product_data)\n",
    "df_products_multi_index = df_products.set_index(['Category', 'Product'])\n",
    "average_sales = df_products_multi_index.groupby('Category')['Sales'].mean()\n",
    "print(\"\\nAverage Sales by Category:\")\n",
    "print(average_sales)"
   ]
  },
  {
   "cell_type": "code",
   "execution_count": null,
   "id": "f2c2fa03",
   "metadata": {},
   "outputs": [],
   "source": []
  }
 ],
 "metadata": {
  "kernelspec": {
   "display_name": "Python 3 (ipykernel)",
   "language": "python",
   "name": "python3"
  },
  "language_info": {
   "codemirror_mode": {
    "name": "ipython",
    "version": 3
   },
   "file_extension": ".py",
   "mimetype": "text/x-python",
   "name": "python",
   "nbconvert_exporter": "python",
   "pygments_lexer": "ipython3",
   "version": "3.9.12"
  }
 },
 "nbformat": 4,
 "nbformat_minor": 5
}

{
 "cells": [
  {
   "cell_type": "code",
   "execution_count": 39,
   "id": "0f39ccf8",
   "metadata": {},
   "outputs": [
    {
     "data": {
      "text/plain": [
       "{'Year': [2021, 2021, 2021, 2021, 2022, 2022, 2022, 2022],\n",
       " 'Quarter': ['Q1', 'Q2', 'Q3', 'Q4', 'Q1', 'Q2', 'Q3', 'Q4'],\n",
       " 'Sales_online': [19000, 18000, 14000, 20000, 11000, 14000, 12000, 24000],\n",
       " 'Sales_instore': [13000, 12000, 17000, 18000, 15000, 19000, 23000, 25000],\n",
       " 'Expenses_online': [4000, 6000, 8000, 9000, 11000, 7000, 8000, 12000],\n",
       " 'Expenses_instore': [4300, 5260, 7272, 7382, 12000, 9000, 10000, 8900]}"
      ]
     },
     "execution_count": 39,
     "metadata": {},
     "output_type": "execute_result"
    }
   ],
   "source": [
    "import pandas as pd\n",
    "\n",
    "data = {\n",
    "    'Year': [2021, 2021, 2021, 2021, 2022, 2022, 2022, 2022],\n",
    "    'Quarter': ['Q1', 'Q2', 'Q3', 'Q4', 'Q1', 'Q2', 'Q3', 'Q4'],\n",
    "    'Sales_online': [19000, 18000, 14000, 20000, 11000, 14000, 12000, 24000],\n",
    "    'Sales_instore': [13000, 12000, 17000, 18000, 15000, 19000, 23000, 25000],\n",
    "    'Expenses_online': [4000, 6000, 8000, 9000, 11000, 7000, 8000, 12000],\n",
    "    'Expenses_instore': [4300, 5260, 7272, 7382, 12000, 9000, 10000, 8900]\n",
    "}\n",
    "data\n"
   ]
  },
  {
   "cell_type": "code",
   "execution_count": 40,
   "id": "292e250b",
   "metadata": {},
   "outputs": [
    {
     "data": {
      "text/html": [
       "<div>\n",
       "<style scoped>\n",
       "    .dataframe tbody tr th:only-of-type {\n",
       "        vertical-align: middle;\n",
       "    }\n",
       "\n",
       "    .dataframe tbody tr th {\n",
       "        vertical-align: top;\n",
       "    }\n",
       "\n",
       "    .dataframe thead th {\n",
       "        text-align: right;\n",
       "    }\n",
       "</style>\n",
       "<table border=\"1\" class=\"dataframe\">\n",
       "  <thead>\n",
       "    <tr style=\"text-align: right;\">\n",
       "      <th></th>\n",
       "      <th>Year</th>\n",
       "      <th>Quarter</th>\n",
       "      <th>Sales_online</th>\n",
       "      <th>Sales_instore</th>\n",
       "      <th>Expenses_online</th>\n",
       "      <th>Expenses_instore</th>\n",
       "    </tr>\n",
       "  </thead>\n",
       "  <tbody>\n",
       "    <tr>\n",
       "      <th>0</th>\n",
       "      <td>2021</td>\n",
       "      <td>Q1</td>\n",
       "      <td>19000</td>\n",
       "      <td>13000</td>\n",
       "      <td>4000</td>\n",
       "      <td>4300</td>\n",
       "    </tr>\n",
       "    <tr>\n",
       "      <th>1</th>\n",
       "      <td>2021</td>\n",
       "      <td>Q2</td>\n",
       "      <td>18000</td>\n",
       "      <td>12000</td>\n",
       "      <td>6000</td>\n",
       "      <td>5260</td>\n",
       "    </tr>\n",
       "    <tr>\n",
       "      <th>2</th>\n",
       "      <td>2021</td>\n",
       "      <td>Q3</td>\n",
       "      <td>14000</td>\n",
       "      <td>17000</td>\n",
       "      <td>8000</td>\n",
       "      <td>7272</td>\n",
       "    </tr>\n",
       "    <tr>\n",
       "      <th>3</th>\n",
       "      <td>2021</td>\n",
       "      <td>Q4</td>\n",
       "      <td>20000</td>\n",
       "      <td>18000</td>\n",
       "      <td>9000</td>\n",
       "      <td>7382</td>\n",
       "    </tr>\n",
       "    <tr>\n",
       "      <th>4</th>\n",
       "      <td>2022</td>\n",
       "      <td>Q1</td>\n",
       "      <td>11000</td>\n",
       "      <td>15000</td>\n",
       "      <td>11000</td>\n",
       "      <td>12000</td>\n",
       "    </tr>\n",
       "    <tr>\n",
       "      <th>5</th>\n",
       "      <td>2022</td>\n",
       "      <td>Q2</td>\n",
       "      <td>14000</td>\n",
       "      <td>19000</td>\n",
       "      <td>7000</td>\n",
       "      <td>9000</td>\n",
       "    </tr>\n",
       "    <tr>\n",
       "      <th>6</th>\n",
       "      <td>2022</td>\n",
       "      <td>Q3</td>\n",
       "      <td>12000</td>\n",
       "      <td>23000</td>\n",
       "      <td>8000</td>\n",
       "      <td>10000</td>\n",
       "    </tr>\n",
       "    <tr>\n",
       "      <th>7</th>\n",
       "      <td>2022</td>\n",
       "      <td>Q4</td>\n",
       "      <td>24000</td>\n",
       "      <td>25000</td>\n",
       "      <td>12000</td>\n",
       "      <td>8900</td>\n",
       "    </tr>\n",
       "  </tbody>\n",
       "</table>\n",
       "</div>"
      ],
      "text/plain": [
       "   Year Quarter  Sales_online  Sales_instore  Expenses_online  \\\n",
       "0  2021      Q1         19000          13000             4000   \n",
       "1  2021      Q2         18000          12000             6000   \n",
       "2  2021      Q3         14000          17000             8000   \n",
       "3  2021      Q4         20000          18000             9000   \n",
       "4  2022      Q1         11000          15000            11000   \n",
       "5  2022      Q2         14000          19000             7000   \n",
       "6  2022      Q3         12000          23000             8000   \n",
       "7  2022      Q4         24000          25000            12000   \n",
       "\n",
       "   Expenses_instore  \n",
       "0              4300  \n",
       "1              5260  \n",
       "2              7272  \n",
       "3              7382  \n",
       "4             12000  \n",
       "5              9000  \n",
       "6             10000  \n",
       "7              8900  "
      ]
     },
     "execution_count": 40,
     "metadata": {},
     "output_type": "execute_result"
    }
   ],
   "source": [
    "financial_data = pd.DataFrame(data)\n",
    "financial_data"
   ]
  },
  {
   "cell_type": "code",
   "execution_count": 41,
   "id": "7219da0a",
   "metadata": {},
   "outputs": [
    {
     "name": "stdout",
     "output_type": "stream",
     "text": [
      "(a) Online Sales for Q1 2022: 11000\n"
     ]
    }
   ],
   "source": [
    "# a\n",
    "online_sales_q1_2022 = financial_data[\n",
    "    (financial_data['Year'] == 2022) & (financial_data['Quarter'] == 'Q1')\n",
    "]['Sales_online'].values[0]\n",
    "print(\"(a) Online Sales for Q1 2022:\", online_sales_q1_2022)"
   ]
  },
  {
   "cell_type": "code",
   "execution_count": 42,
   "id": "05065418",
   "metadata": {},
   "outputs": [
    {
     "name": "stdout",
     "output_type": "stream",
     "text": [
      "(b) In-Store Expenses for Q3 2021: 7272\n"
     ]
    }
   ],
   "source": [
    "# b\n",
    "instore_expenses_q3_2021 = financial_data[\n",
    "    (financial_data['Year'] == 2021) & (financial_data['Quarter'] == 'Q3')\n",
    "]['Expenses_instore'].values[0]\n",
    "print(\"(b) In-Store Expenses for Q3 2021:\", instore_expenses_q3_2021)"
   ]
  },
  {
   "cell_type": "code",
   "execution_count": 43,
   "id": "9764497a",
   "metadata": {},
   "outputs": [
    {
     "name": "stdout",
     "output_type": "stream",
     "text": [
      "(c) Total Sales for Q4 2021: 38000\n"
     ]
    }
   ],
   "source": [
    "# c\n",
    "total_sales_q4_2021 = financial_data[\n",
    "    (financial_data['Year'] == 2021) & (financial_data['Quarter'] == 'Q4')\n",
    "][['Sales_online', 'Sales_instore']].sum().sum()\n",
    "print(\"(c) Total Sales for Q4 2021:\", total_sales_q4_2021)"
   ]
  },
  {
   "cell_type": "code",
   "execution_count": 44,
   "id": "d696b556",
   "metadata": {},
   "outputs": [
    {
     "name": "stdout",
     "output_type": "stream",
     "text": [
      "(d) Expenses for Online Channel in 2022: 38000\n"
     ]
    }
   ],
   "source": [
    "# d\n",
    "online_expenses_2022 = financial_data[\n",
    "    (financial_data['Year'] == 2022)\n",
    "]['Expenses_online'].sum()\n",
    "print(\"(d) Expenses for Online Channel in 2022:\", online_expenses_2022)"
   ]
  },
  {
   "cell_type": "code",
   "execution_count": 45,
   "id": "a56f0d6e",
   "metadata": {},
   "outputs": [
    {
     "name": "stdout",
     "output_type": "stream",
     "text": [
      "\n",
      "(e) Sales Data for Q2 2021:\n",
      "   Sales_online  Sales_instore\n",
      "1         18000          12000\n"
     ]
    }
   ],
   "source": [
    "# e\n",
    "sales_q2_2021 = financial_data[\n",
    "    (financial_data['Year'] == 2021) & (financial_data['Quarter'] == 'Q2')\n",
    "][['Sales_online', 'Sales_instore']]\n",
    "print(\"\\n(e) Sales Data for Q2 2021:\")\n",
    "print(sales_q2_2021)\n"
   ]
  },
  {
   "cell_type": "code",
   "execution_count": 46,
   "id": "4bd87324",
   "metadata": {},
   "outputs": [
    {
     "name": "stdout",
     "output_type": "stream",
     "text": [
      "(f) Maximum Expense Recorded in 2022: 12000\n"
     ]
    }
   ],
   "source": [
    "# f\n",
    "max_expense_2022 = financial_data[\n",
    "    (financial_data['Year'] == 2022)\n",
    "][['Expenses_online', 'Expenses_instore']].max().max()\n",
    "print(\"(f) Maximum Expense Recorded in 2022:\", max_expense_2022)"
   ]
  },
  {
   "cell_type": "code",
   "execution_count": 57,
   "id": "273f64c2",
   "metadata": {},
   "outputs": [
    {
     "name": "stdout",
     "output_type": "stream",
     "text": [
      "Stacked Data Frame:\n",
      "Store   Product        \n",
      "Store1  Product1  Sales    1000\n",
      "        Product2  Sales    1500\n",
      "Store2  Product1  Sales    1200\n",
      "        Product2  Sales    1800\n",
      "dtype: int64\n"
     ]
    }
   ],
   "source": [
    "#Question2\n",
    "\n",
    "data = {\n",
    "    'Store': ['Store1', 'Store1', 'Store2', 'Store2'],\n",
    "    'Product': ['Product1', 'Product2', 'Product1', 'Product2'],\n",
    "    'Sales': [1000, 1500, 1200, 1800]\n",
    "}\n",
    "\n",
    "df = pd.DataFrame(data)\n",
    "\n",
    "# Stack the DataFrame\n",
    "stacked_df = df.set_index(['Store', 'Product']).stack()\n",
    "print(\"Stacked Data Frame:\")\n",
    "print(stacked_df)\n"
   ]
  },
  {
   "cell_type": "code",
   "execution_count": 48,
   "id": "2e3bf3b5",
   "metadata": {},
   "outputs": [
    {
     "name": "stdout",
     "output_type": "stream",
     "text": [
      "Unstacked Data Frame (Sales by Store):\n",
      "Product       Product1  Product2\n",
      "Store                           \n",
      "Store1 Sales      1000      1500\n",
      "Store2 Sales      1200      1800\n"
     ]
    }
   ],
   "source": [
    "#Question3\n",
    "# Unstack the DataFrame\n",
    "unstacked_df = stacked_df.unstack(level='Product')\n",
    "print(\"Unstacked Data Frame (Sales by Store):\")\n",
    "print(unstacked_df)\n"
   ]
  },
  {
   "cell_type": "code",
   "execution_count": 49,
   "id": "4bf53ef5",
   "metadata": {},
   "outputs": [
    {
     "name": "stdout",
     "output_type": "stream",
     "text": [
      "Multi-Index DataFrame (Department and Role):\n",
      "                     Employee  Salary\n",
      "Department Role                      \n",
      "HR         Manager      Alice   75000\n",
      "IT         Developer      Bob   90000\n",
      "HR         Assistant  Charlie   50000\n",
      "IT         Developer    David   85000\n"
     ]
    }
   ],
   "source": [
    "#Question4\n",
    "data = {\n",
    "    'Employee': ['Alice', 'Bob', 'Charlie', 'David'],\n",
    "    'Department': ['HR', 'IT', 'HR', 'IT'],\n",
    "    'Role': ['Manager', 'Developer', 'Assistant', 'Developer'],\n",
    "    'Salary': [75000, 90000, 50000, 85000]\n",
    "}\n",
    "\n",
    "df = pd.DataFrame(data)\n",
    "\n",
    "# Set multi-index with Department and Role\n",
    "df_multi_index = df.set_index(['Department', 'Role'])\n",
    "print(\"Multi-Index DataFrame (Department and Role):\")\n",
    "print(df_multi_index)\n"
   ]
  },
  {
   "cell_type": "code",
   "execution_count": 50,
   "id": "4503483f",
   "metadata": {},
   "outputs": [
    {
     "name": "stdout",
     "output_type": "stream",
     "text": [
      "HR Department Employees:\n",
      "          Employee  Salary\n",
      "Role                      \n",
      "Manager      Alice   75000\n",
      "Assistant  Charlie   50000\n"
     ]
    }
   ],
   "source": [
    "#Question5\n",
    "hr_employees = df_multi_index.loc['HR']\n",
    "print(\"HR Department Employees:\")\n",
    "print(hr_employees)"
   ]
  },
  {
   "cell_type": "code",
   "execution_count": 51,
   "id": "b80ce0b9",
   "metadata": {},
   "outputs": [
    {
     "name": "stdout",
     "output_type": "stream",
     "text": [
      "Sorted Student Grades by Subject and Grade:\n",
      "   Student  Subject Grade\n",
      "0     John     Math     A\n",
      "2      Bob     Math     C\n",
      "3  Charlie  Science     A\n",
      "1    Alice  Science     B\n"
     ]
    }
   ],
   "source": [
    "#Question6\n",
    "data = {\n",
    "    'Student': ['John', 'Alice', 'Bob', 'Charlie'],\n",
    "    'Subject': ['Math', 'Science', 'Math', 'Science'],\n",
    "    'Grade': ['A', 'B', 'C', 'A']\n",
    "}\n",
    "\n",
    "df_grades = pd.DataFrame(data)\n",
    "\n",
    "# Sort the DataFrame by Subject and Grade\n",
    "sorted_grades = df_grades.sort_values(by=['Subject', 'Grade'])\n",
    "print(\"Sorted Student Grades by Subject and Grade:\")\n",
    "print(sorted_grades)"
   ]
  },
  {
   "cell_type": "code",
   "execution_count": 52,
   "id": "eafa0736",
   "metadata": {},
   "outputs": [
    {
     "name": "stdout",
     "output_type": "stream",
     "text": [
      "Reset Index of Sorted Grades:\n",
      "   Student  Subject Grade\n",
      "0     John     Math     A\n",
      "1      Bob     Math     C\n",
      "2  Charlie  Science     A\n",
      "3    Alice  Science     B\n"
     ]
    }
   ],
   "source": [
    "#Question7\n",
    "reset_grades = sorted_grades.reset_index(drop=True)\n",
    "print(\"Reset Index of Sorted Grades:\")\n",
    "print(reset_grades)"
   ]
  },
  {
   "cell_type": "code",
   "execution_count": 53,
   "id": "556180ef",
   "metadata": {},
   "outputs": [
    {
     "name": "stdout",
     "output_type": "stream",
     "text": [
      "Weather Data Frame with Date as Index:\n",
      "            Temperature  Rainfall\n",
      "Date                             \n",
      "2024-01-01           30       0.0\n",
      "2024-01-02           32       1.2\n",
      "2024-01-03           28       0.5\n"
     ]
    }
   ],
   "source": [
    "#Question8\n",
    "data = {\n",
    "    'Date': ['2024-01-01', '2024-01-02', '2024-01-03'],\n",
    "    'Temperature': [30, 32, 28],\n",
    "    'Rainfall': [0, 1.2, 0.5]\n",
    "}\n",
    "\n",
    "df_weather = pd.DataFrame(data)\n",
    "df_weather['Date'] = pd.to_datetime(df_weather['Date'])\n",
    "df_weather.set_index('Date', inplace=True)\n",
    "print(\"Weather Data Frame with Date as Index:\")\n",
    "print(df_weather)"
   ]
  },
  {
   "cell_type": "code",
   "execution_count": 54,
   "id": "3d01eb61",
   "metadata": {},
   "outputs": [
    {
     "name": "stdout",
     "output_type": "stream",
     "text": [
      "Flattened Product Sales Data Frame:\n",
      "      Category Product  Sales\n",
      "0  Electronics  Laptop   1000\n",
      "1  Electronics   Phone   2000\n",
      "2    Furniture   Table   3000\n",
      "3    Furniture   Chair   4000\n"
     ]
    }
   ],
   "source": [
    "#Question9\n",
    "sales_data = {\n",
    "    'Category': ['Electronics', 'Electronics', 'Furniture', 'Furniture'],\n",
    "    'Product': ['Laptop', 'Phone', 'Table', 'Chair'],\n",
    "    'Sales': [1000, 2000, 3000, 4000]\n",
    "}\n",
    "\n",
    "df_sales = pd.DataFrame(sales_data)\n",
    "df_sales_multi_index = df_sales.set_index(['Category', 'Product'])\n",
    "flattened_df = df_sales_multi_index.reset_index()\n",
    "print(\"Flattened Product Sales Data Frame:\")\n",
    "print(flattened_df)"
   ]
  },
  {
   "cell_type": "code",
   "execution_count": 55,
   "id": "29587109",
   "metadata": {},
   "outputs": [
    {
     "name": "stdout",
     "output_type": "stream",
     "text": [
      "\n",
      "Average Sales by Category:\n",
      "Category\n",
      "Electronics    1250.0\n",
      "Furniture      2250.0\n",
      "Name: Sales, dtype: float64\n"
     ]
    }
   ],
   "source": [
    "#Question10\n",
    "product_data = {\n",
    "    'Category': ['Electronics', 'Electronics', 'Furniture', 'Furniture'],\n",
    "    'Product': ['Laptop', 'Phone', 'Table', 'Chair'],\n",
    "    'Sales': [1000, 1500, 2000, 2500]\n",
    "}\n",
    "\n",
    "df_products = pd.DataFrame(product_data)\n",
    "df_products_multi_index = df_products.set_index(['Category', 'Product'])\n",
    "average_sales = df_products_multi_index.groupby('Category')['Sales'].mean()\n",
    "print(\"\\nAverage Sales by Category:\")\n",
    "print(average_sales)"
   ]
  },
  {
   "cell_type": "code",
   "execution_count": null,
   "id": "e37bfb61",
   "metadata": {},
   "outputs": [],
   "source": []
  },
  {
   "cell_type": "code",
   "execution_count": null,
   "id": "cd0870ba",
   "metadata": {},
   "outputs": [],
   "source": []
  }
 ],
 "metadata": {
  "kernelspec": {
   "display_name": "Python 3 (ipykernel)",
   "language": "python",
   "name": "python3"
  },
  "language_info": {
   "codemirror_mode": {
    "name": "ipython",
    "version": 3
   },
   "file_extension": ".py",
   "mimetype": "text/x-python",
   "name": "python",
   "nbconvert_exporter": "python",
   "pygments_lexer": "ipython3",
   "version": "3.11.3"
  }
 },
 "nbformat": 4,
 "nbformat_minor": 5
}
